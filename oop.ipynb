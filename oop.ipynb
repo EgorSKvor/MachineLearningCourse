{
  "nbformat": 4,
  "nbformat_minor": 0,
  "metadata": {
    "colab": {
      "provenance": [],
      "authorship_tag": "ABX9TyNTG+fce/2dhKdlEZZYBxMX",
      "include_colab_link": true
    },
    "kernelspec": {
      "name": "python3",
      "display_name": "Python 3"
    },
    "language_info": {
      "name": "python"
    }
  },
  "cells": [
    {
      "cell_type": "markdown",
      "metadata": {
        "id": "view-in-github",
        "colab_type": "text"
      },
      "source": [
        "<a href=\"https://colab.research.google.com/github/EfremovEgor/Object-Oriented-Programming-Notebook/blob/main/Untitled2.ipynb\" target=\"_parent\"><img src=\"https://colab.research.google.com/assets/colab-badge.svg\" alt=\"Open In Colab\"/></a>"
      ]
    },
    {
      "cell_type": "markdown",
      "source": [
        "\n",
        "# **Основы объектно-ориентированного программирования.**\n",
        "---\n",
        "\n",
        "\n",
        "**ООП(объектно-ориентированное программирование)** – главный подход к решению большинства современных проблем программирования путем представления программы в виде набора экземпляров класса(объектов), которые взаимодействуют друг с другом. Такой подход позволяет улучшить читаемость кода и облегчить дальнейшую его поддержку.\n",
        "\n",
        "**Основа ООП** – **классы**. По своей сути классы можно ассоциировать с чертежами по которым будут создаваться объекты.\n",
        "\n",
        "**Объекты классов/экземпляры класса** – это как раз таки изделия, которые будут создаваться в соответствии с описанными свойствами в классе. \n",
        "\n",
        "\n",
        "---\n",
        "\n"
      ],
      "metadata": {
        "id": "NSWDGVOlIcgS"
      }
    },
    {
      "cell_type": "markdown",
      "source": [
        "В Python ключевое слово для объявления класса - **class**\n",
        "\n",
        "**Общий вид класса:**\n",
        "\n",
        "\n",
        "```\n",
        "# class Foo(): #Круглые скобки не обязательны\n",
        "```\n",
        "Для того, чтобы объявить свойства класса(по сути набор переменных, который будет иметь наш объект), которые называются **полями класса** необходимо написать **конструктор(инициализатор класса)** - **метод**(функция в классе, при этом метод нельзя называть функцией и наоборот - это неправильно, а поля класса нельзя называть переменными), который будет вызываться каждый раз, когда создается новый объект. \n",
        "\n",
        "Полям класса можно будет присвоить значения, описав их в конструкторе.\n",
        "\n",
        "> **Полям класса можно будет присвоить значения, описав их в конструкторе.**\n",
        "\n",
        "> **Конструктор вызывается один раз при создании объекта.**\n",
        "\n",
        "> **Аргумент self при объявлении конструктора обязателен и строго должен стоять самым первым**\n",
        "\n",
        "\n",
        "\n",
        "> **Аргумент self при создании объекта передавать не нужно**\n",
        "\n",
        "\n",
        "\n",
        "\n",
        "**Общий вид конструктора:**\n",
        "```\n",
        "class Foo():\n",
        "  def __init__(self,a,b):\n",
        "    self.a = a\n",
        "    self.b = b\n",
        "    self.c = 3\n",
        "\n",
        "```\n",
        "**Объявление метода класса**\n",
        "\n",
        "\n",
        "\n",
        "```\n",
        "  def bar(self,value):\n",
        "    return self.a+self.b+self.c*value\n",
        "```\n",
        "\n",
        "\n",
        "\n",
        "\n",
        "**Создание объекта класса и вызов метода bar:**\n",
        "```\n",
        "a = 1\n",
        "b = 4\n",
        "foo_object = Foo(a,b)\n",
        "print(foo_object.bar(5)) # 1 + 4 + 3*5 = 20\n",
        "```\n",
        "\n",
        "\n",
        "\n",
        "\n",
        "\n"
      ],
      "metadata": {
        "id": "O0Hc7s1AJFTL"
      }
    },
    {
      "cell_type": "code",
      "source": [
        "class Foo(): #Объвляем класс\n",
        "  def __init__(self,a,b): #Объвляем конструктор/инициализатор класса\n",
        "    #Объявим поля класса:\n",
        "    self.a = a  # Присваим переданное значение a полю класса a при создании объекта\n",
        "    self.b = 10 if b>50 else b # Присваиваем собственному значению b 10 если переданное b больше 50 иначе присваиваем то, которое передали\n",
        "    self.c = 30 # Поле класса которое мы не сможем присвоить при создании объекта\n",
        "    #return нельзя писать, иначе получите ошибку TypeError.\n",
        "  def bar(self,value):\n",
        "    return self.a+self.b+self.c*value\n",
        "foo_object1 = Foo(5,70) # Создаем объект класса Foo с названием foo_object1 и присваиваем его свойствам a и b 5 и 70 соответсвенно\n",
        "# Можно заметить, что аргумент self не передается\n",
        "\n",
        "print(\"До изменения свойств объекта\")\n",
        "print(f\"свойство a объекта foo_object1 - {foo_object1.a}\") # a = 5\n",
        "print(f\"свойство b объекта foo_object1 - {foo_object1.b}\") # b вместо 70 станет 10 т.к 70>50\n",
        "print(f\"свойство c объекта foo_object1 - {foo_object1.c}\") # c = 30 т.к мы его описали в конструкторе\n",
        "print(f\"результат метода bar - {foo_object1.bar(5)}\") #165\n",
        "\n",
        "foo_object1.a = 19 # Присваиваем свойству a объекта класса Foo foo_object1 19\n",
        "foo_object1.b = 60 # Присваиваем свойству b объекта класса Foo foo_object1 60\n",
        "foo_object1.c = 25 # Присваиваем свойству c объекта класса Foo foo_object1 25\n",
        "\n",
        "\n",
        "print(\"После изменения свойств объекта\")\n",
        "print(f\"свойство a объекта foo_object1 - {foo_object1.a}\") # a = 19\n",
        "print(f\"свойство b объекта foo_object1 - {foo_object1.b}\") # b = 60, b не будет равняться 10 т.к конструктор уже не вызывается при прямом присваивании\n",
        "print(f\"свойство c объекта foo_object1 - {foo_object1.c}\") # c = 25\n",
        "print(f\"результат метода bar - {foo_object1.bar(5)}\") #204"
      ],
      "metadata": {
        "colab": {
          "base_uri": "https://localhost:8080/"
        },
        "id": "EvqtaNNK-I9I",
        "outputId": "f3492e0a-fe42-422f-90b4-837a570b339f"
      },
      "execution_count": null,
      "outputs": [
        {
          "output_type": "stream",
          "name": "stdout",
          "text": [
            "До изменения свойств объекта\n",
            "свойство a объекта foo_object1 - 5\n",
            "свойство b объекта foo_object1 - 10\n",
            "свойство c объекта foo_object1 - 30\n",
            "результат метода bar - 165\n",
            "После изменения свойств объекта\n",
            "свойство a объекта foo_object1 - 19\n",
            "свойство b объекта foo_object1 - 60\n",
            "свойство c объекта foo_object1 - 25\n",
            "результат метода bar - 204\n"
          ]
        }
      ]
    },
    {
      "cell_type": "markdown",
      "source": [
        "# **Пример 1:**\n",
        "Объявим класс Vehicle с полями max_speed, weight, wheels_count\n",
        "\n",
        "Создадим машину со свойствами:\n",
        "\n",
        "\n",
        "1.   max_speed = 120\n",
        "2.   weight = 2500\n",
        "3.   wheels_count = 4\n",
        "\n",
        "Опишем метод get_information, который при вызове вернет информацию об объекте в виде словаря.\n",
        "\n",
        "Объявим car - объект класса Vehicle.\n",
        "\n",
        "Вызовем метод get_information,получим информацию о машине и выведем ее."
      ],
      "metadata": {
        "id": "4pnxTmVaIfx6"
      }
    },
    {
      "cell_type": "code",
      "source": [
        "class Vehicle():\n",
        "    def __init__(self, max_speed, weight, wheels_count):\n",
        "        self.max_speed = max_speed\n",
        "        self.weight = weight\n",
        "        self.wheels_count = wheels_count\n",
        "\n",
        "    def get_information(self):\n",
        "        return {\n",
        "            \"max_speed\":self.max_speed,\n",
        "            \"weight\":self.weight,\n",
        "            \"wheels_count\":self.wheels_count\n",
        "        }\n",
        "\n",
        "\n",
        "car = Vehicle(120,2500,4)\n",
        "print(car.get_information())\n"
      ],
      "metadata": {
        "colab": {
          "base_uri": "https://localhost:8080/"
        },
        "id": "XbqcseJdJDr-",
        "outputId": "52dae5bc-5633-4f57-c499-c33e854b2797"
      },
      "execution_count": null,
      "outputs": [
        {
          "output_type": "stream",
          "name": "stdout",
          "text": [
            "{'max_speed': 120, 'weight': 2500, 'wheels_count': 4}\n"
          ]
        }
      ]
    },
    {
      "cell_type": "markdown",
      "source": [
        "# **Геттеры, сеттеры, контроль входящих значений свойств объекта. Приватные поля.**\n",
        "Допустим мы не хотим, чтобы максимальная скорость,количество колес и масса были отрицательными. Мы можем описать ограничения в конструкторе, но он вызывается единственный раз, и кто-то может изменить свойства объекта просто явно присвоив их.\n"
      ],
      "metadata": {
        "id": "wKU8hCzhOR9z"
      }
    },
    {
      "cell_type": "markdown",
      "source": [
        "Для контроля значений используются декораторы @property, @a.getter и @a.setter\n",
        "\n",
        "Getter(геттер) - используется для возврата значения свойства при обращении к нему\n",
        "\n",
        "Setter(сеттер) - наоборот, используется для присваивания.\n",
        "\n",
        "Приватное поле - поле к которому нельзя обратиться вне класса.\n",
        "\n",
        "Если присутствует необходимость в контроле значений свойств объекта при их присваивании, то объявляется функция с названием свойства обернутая в декоратор @property и объявляется поле класса __свойство.  \n",
        "\n",
        "\n",
        "```\n",
        "class Foo():\n",
        "    def __init__(self,private_property_value): \n",
        "        self.__private_property = private_property_value #\n",
        "        '''\n",
        "        объявляем собственное приватное свойство __private_property, которое\n",
        "        нельзя будет изменить вне класса и присваиваем ему значение переданное\n",
        "        при создании объекта.\n",
        "        '''\n",
        "\n",
        "    @property\n",
        "    def private_property(self): \n",
        "        return self.__private_property\n",
        "        '''\n",
        "        Объявляем метод, который будет являться псевдо свойством объекта,\n",
        "        Данная функция будет возвращать значение поля __private_property\n",
        "        при вызове. Можно тоже считать геттером.\n",
        "        '''\n",
        "\n",
        "    @private_property.getter\n",
        "    def private_property(self):\n",
        "        return self.__private_property\n",
        "        '''\n",
        "        Это - геттер.\n",
        "        По сути своей мы можем обойтись и без объявления геттера, так как \n",
        "        значение свойства итак можно получить напрямую из метода выше. Данный\n",
        "        метод нужен только в редких случаях. Здесь можно изменить запрашиваемое \n",
        "        свойство объекта. Приоритет @private_property.getter выше чем у \n",
        "        @property, поэтому любое изменение в методе обернутым в @property не\n",
        "        будет выполняться. \n",
        "        '''\n",
        "\n",
        "    @private_property.setter\n",
        "    def private_property(self,value):\n",
        "        self.__private_property=value\n",
        "        '''\n",
        "        Это - сеттер.\n",
        "        Этот метод позволяет изменять значение свойства объекта путем обращения\n",
        "        к нему. Тут можно написать проверки на входящие значения.\n",
        "        '''\n",
        "```\n",
        "\n",
        "\n",
        "\n",
        "> **__(двойное нижнее подчеркивание) указывает на приватность поля.**\n",
        "\n",
        "\n",
        "> **Приватные поля нельзя изменять вне класса. При попытке вызова приватного свойства объекта вне класса выдаст ошибку AttributeError**\n",
        "\n",
        "> **Также можно встретить _(одинарное нижнее подчеркивание), оно не скрывает поле. В основном используется для объявления приватных классов, методов, переменных, полей и т.д в модулях.**\n",
        "\n",
        "\n",
        "\n",
        "\n",
        "\n",
        "\n",
        "\n"
      ],
      "metadata": {
        "id": "AP6nTVDagaEy"
      }
    },
    {
      "cell_type": "code",
      "source": [
        "class Foo():\n",
        "    def __init__(self,private_property_value):\n",
        "        self.__private_property = private_property_value\n",
        "    \n",
        "\n",
        "    @property\n",
        "    def private_property(self):\n",
        "        print(\"вызван @property\")\n",
        "        return self.__private_property\n",
        "    @private_property.setter\n",
        "    def private_property(self,value):\n",
        "        print(\"вызван @private_property.setter\")\n",
        "        self.__private_property=value\n",
        "\n",
        "    @private_property.getter\n",
        "    def private_property(self):\n",
        "        print(\"вызван @private_property.getter\")\n",
        "        return self.__private_property\n",
        "\n",
        "a = Foo(2)\n",
        "a.private_property = 4\n",
        "print(a.private_property)"
      ],
      "metadata": {
        "colab": {
          "base_uri": "https://localhost:8080/"
        },
        "id": "2yiZzRY-eskP",
        "outputId": "978a28d2-d4ae-456c-9ed2-29d0548bb82f"
      },
      "execution_count": null,
      "outputs": [
        {
          "output_type": "stream",
          "name": "stdout",
          "text": [
            "вызван @private_property.setter\n",
            "вызван @private_property.getter\n",
            "4\n"
          ]
        }
      ]
    },
    {
      "cell_type": "markdown",
      "source": [
        "# Пример 1.1:\n",
        "\n",
        "Сделаем так, чтобы при создании объекта:\n",
        "\n",
        "\n",
        "1.   если max_speed <= 0, то присваиваем 1\n",
        "2.   если weight <= 0, то присваиваем 1\n",
        "3.   если wheels_count < 1, то присваиваем 1\n",
        "\n",
        "Убедимся, что нельзя будет, обратясь к свойству объекта, передать значения не удовлетворяющие условиям выше. Если значение не подходит, то выдаем ошибку.\n",
        "\n",
        "Для этого нужно создать 3 метода обернутые декоратором @property и 3 сеттера к каждому полю.\n",
        "\n",
        "Создадим приватное поле id, которое будет случайно выбираться при создании объекта.\n"
      ],
      "metadata": {
        "id": "1U6S_tatf9wK"
      }
    },
    {
      "cell_type": "code",
      "source": [
        "import random\n",
        "class Vehicle():\n",
        "    def __init__(self, max_speed_value, weight_value, wheels_count_value):\n",
        "        self._max_speed = max_speed_value if max_speed_value>0 else 1\n",
        "        self._weight = weight_value if weight_value>0 else 1\n",
        "        self._wheels_count = wheels_count_value if wheels_count_value>=1 else 1\n",
        "        self.__id = random.randint(1,100000)\n",
        "    def get_information(self):\n",
        "        return {\n",
        "            \"max_speed\":self._max_speed,\n",
        "            \"weight\":self._weight,\n",
        "            \"wheels_count\":self._wheels_count\n",
        "        }\n",
        "\n",
        "    @property\n",
        "    def max_speed(self):\n",
        "        return self._max_speed\n",
        "    \n",
        "    @max_speed.setter\n",
        "    def max_speed(self, value):\n",
        "        if value>0:\n",
        "            self._max_speed = value\n",
        "        raise ValueError(\"Maximum speed must be greater than 0\")\n",
        "    \n",
        "    @property\n",
        "    def weight(self):\n",
        "        return self._weight\n",
        "    \n",
        "    @weight.setter\n",
        "    def weight(self, value):\n",
        "        if value>0:\n",
        "            self._weight = value\n",
        "        raise ValueError(\"Weight must be greater than 0\")\n",
        "    \n",
        "    @property\n",
        "    def wheels_count(self):\n",
        "        return self._wheels_count\n",
        "    \n",
        "    @weight.setter\n",
        "    def wheels_count(self, value):\n",
        "        if value>0:\n",
        "            self._wheels_count = value\n",
        "        raise ValueError(\"Amount of wheels must be equal or greater than 1\")\n",
        "\n",
        "\n",
        "car = Vehicle(-1,-1,-1)\n",
        "print(car.get_information())\n",
        "try:\n",
        "  car.max_speed = -2\n",
        "except ValueError as Ex:\n",
        "    print(str(Ex))\n",
        "try:\n",
        "    print(car.__id)\n",
        "except AttributeError as Ex:\n",
        "    print(str(Ex))\n"
      ],
      "metadata": {
        "colab": {
          "base_uri": "https://localhost:8080/"
        },
        "id": "qPprxlIZQaZS",
        "outputId": "aa94f7ec-4ec6-4cf6-b1fa-70ee1b6d5e56"
      },
      "execution_count": null,
      "outputs": [
        {
          "output_type": "stream",
          "name": "stdout",
          "text": [
            "{'max_speed': 1, 'weight': 1, 'wheels_count': 1}\n",
            "Maximum speed must be greater than 0\n",
            "'Vehicle' object has no attribute '__id'\n"
          ]
        }
      ]
    },
    {
      "cell_type": "markdown",
      "source": [
        "# **Перегрузка операторов**\n",
        "Перегрузка операторов - это переопределение базовых операций языка, по типу: мат. операций, представления в виде строки, логических операций. Название таких методов имеет два нижних подчеркивания спереди и сзади. \n"
      ],
      "metadata": {
        "id": "nrMo7aRnmGrm"
      }
    },
    {
      "cell_type": "markdown",
      "source": [
        "На самом деле, когда мы объявляли конструктор, мы переопределяли его изначальное поведение:\n",
        "\n",
        "```\n",
        "class Foo():\n",
        "  def __init__(self):\n",
        "    pass\n",
        "```\n"
      ],
      "metadata": {
        "id": "_8q3HtFHoStv"
      }
    },
    {
      "cell_type": "markdown",
      "source": [
        "# **Примеры перегрузок операторов**:"
      ],
      "metadata": {
        "id": "2ueB63dAoVor"
      }
    },
    {
      "cell_type": "markdown",
      "source": [
        "Возьмем код из **Примера 1**\n"
      ],
      "metadata": {
        "id": "wVJXyxyKojm5"
      }
    },
    {
      "cell_type": "code",
      "source": [
        "class Vehicle():\n",
        "    def __init__(self, max_speed, weight, wheels_count):\n",
        "        self.max_speed = max_speed\n",
        "        self.weight = weight\n",
        "        self.wheels_count = wheels_count\n",
        "    def __repr__(self) -> str:\n",
        "        return f\"перегрузка оператора __repr__ \"\n",
        "    def __str__(self) -> str:\n",
        "        return f\"Максимальная скорость = {self.max_speed}\\nМасса = {self.weight}\\nКоличество колес = {self.wheels_count}\" \n",
        "    def get_information(self):\n",
        "        return {\n",
        "            \"max_speed\":self.max_speed,\n",
        "            \"weight\":self.weight,\n",
        "            \"wheels_count\":self.wheels_count\n",
        "        }\n",
        "    '''\n",
        "    Оператор ==\n",
        "    '''\n",
        "    def __eq__(self, __o):\n",
        "        if type(__o) is Vehicle:\n",
        "            return self.get_information()==__o.get_information()\n",
        "        if type(__o) is str:\n",
        "            return str(self) == __o\n",
        "    '''\n",
        "    Оператор +\n",
        "    '''\n",
        "    def __add__(self,o):\n",
        "        if type(o) is Vehicle:\n",
        "            return Vehicle(self.max_speed+o.max_speed,self.weight+o.weight,self.wheels_count+o.wheels_count)\n",
        "car = Vehicle(120,2500,4)\n",
        "car_str = str(car)\n",
        "print(\"представление car в виде строки:\",car_str,car, \n",
        "      sep=\"\\n_______________________\\n\",)\n",
        "\n",
        "print(\"_______________________\",\"\\nРазница между __repr__ и __str__\")\n",
        "print(\"_______________________\")\n",
        "print(car_str,[car_str],{\"car_str\":car_str},sep=\"\\n\")\n",
        "print(\"_______________________\")\n",
        "a = Vehicle(1,1,1)\n",
        "b = Vehicle(10,20,30)\n",
        "print(\"Сравнение двух объектов Vehicle(разные свойства):\",a==b)\n",
        "a = Vehicle(1,1,1)\n",
        "b = Vehicle(1,1,1)\n",
        "print(\"Сравнение двух объектов Vehicle(одинаковые свойства):\",a==b)\n",
        "a = Vehicle(1,2,3)\n",
        "s = \"Максимальная скорость = 1\\nМасса = 2\\nКоличество колес = 3\"\n",
        "print(\"Сравнение двух объекта Vehicle и String(одинаковое представление в виде строки):\"\n",
        "      ,a==s)\n",
        "\n",
        "print(\"_______________________\")\n",
        "\n",
        "a = Vehicle(1,1,1)\n",
        "b = Vehicle(1,2,3)\n",
        "\n",
        "print(\"Сложение двух объектов Vehicle (1, 1, 1)+(1 ,2 , 3):\",tuple( (a+b).get_information().values()))"
      ],
      "metadata": {
        "colab": {
          "base_uri": "https://localhost:8080/"
        },
        "id": "av6xHEG8oc0j",
        "outputId": "6acfc754-dcfe-48f1-d254-73f2c8cc6d51"
      },
      "execution_count": 8,
      "outputs": [
        {
          "output_type": "stream",
          "name": "stdout",
          "text": [
            "представление car в виде строки:\n",
            "_______________________\n",
            "Максимальная скорость = 120\n",
            "Масса = 2500\n",
            "Количество колес = 4\n",
            "_______________________\n",
            "Максимальная скорость = 120\n",
            "Масса = 2500\n",
            "Количество колес = 4\n",
            "_______________________ \n",
            "Разница между __repr__ и __str__\n",
            "_______________________\n",
            "Максимальная скорость = 120\n",
            "Масса = 2500\n",
            "Количество колес = 4\n",
            "['Максимальная скорость = 120\\nМасса = 2500\\nКоличество колес = 4']\n",
            "{'car_str': 'Максимальная скорость = 120\\nМасса = 2500\\nКоличество колес = 4'}\n",
            "_______________________\n",
            "Сравнение двух объектов Vehicle(разные свойства): False\n",
            "Сравнение двух объектов Vehicle(одинаковые свойства): True\n",
            "Сравнение двух объекта Vehicle и String(одинаковое представление в виде строки): True\n",
            "_______________________\n",
            "Сложение двух объектов Vehicle (1, 1, 1)+(1 ,2 , 3): (2, 3, 4)\n"
          ]
        }
      ]
    },
    {
      "cell_type": "code",
      "source": [],
      "metadata": {
        "id": "mu7F8AgZrJJi"
      },
      "execution_count": null,
      "outputs": []
    }
  ]
}
